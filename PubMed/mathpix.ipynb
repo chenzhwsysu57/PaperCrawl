{
 "cells": [
  {
   "cell_type": "code",
   "execution_count": 1,
   "metadata": {},
   "outputs": [],
   "source": [
    "########### credential ###########\n",
    "import os \n",
    "os.environ['APP_ID'] = \"none_767c7b_d55604\"\n",
    "os.environ['APP_KEY'] = \"08dd3fc0e29f86e0090d0748dea1b432008e925c12b98b649c9dd5e075de8c62\""
   ]
  },
  {
   "cell_type": "code",
   "execution_count": 2,
   "metadata": {},
   "outputs": [
    {
     "data": {
      "text/plain": [
       "'none_767c7b_d55604'"
      ]
     },
     "execution_count": 2,
     "metadata": {},
     "output_type": "execute_result"
    }
   ],
   "source": [
    "os.environ.get('APP_ID')"
   ]
  },
  {
   "cell_type": "markdown",
   "metadata": {},
   "source": [
    "# try via url"
   ]
  },
  {
   "cell_type": "code",
   "execution_count": null,
   "metadata": {},
   "outputs": [],
   "source": []
  },
  {
   "cell_type": "code",
   "execution_count": 45,
   "metadata": {},
   "outputs": [
    {
     "name": "stdout",
     "output_type": "stream",
     "text": [
      "{\n",
      "    \"pdf_id\": \"2024_06_14_8866352bee06e8f26683g\"\n",
      "}\n"
     ]
    }
   ],
   "source": [
    "#!/usr/bin/env python\n",
    "import requests\n",
    "import json\n",
    "APP_ID = \"none_767c7b_d55604\"\n",
    "APP_KEY = \"08dd3fc0e29f86e0090d0748dea1b432008e925c12b98b649c9dd5e075de8c62\"\n",
    "r = requests.post(\n",
    "    url = \"https://api.mathpix.com/v3/pdf\",\n",
    "    json={\n",
    "        \"url\": \"http://cs229.stanford.edu/notes2020spring/cs229-notes1.pdf\",\n",
    "        \"conversion_formats\": {\n",
    "            \"docx\": \"true\",\n",
    "            \"tex.zip\": \"true\"\n",
    "        },\n",
    "    },\n",
    "    headers={\n",
    "        \"app_id\": f\"{APP_ID}\",\n",
    "        \"app_key\": f\"{APP_KEY}\",\n",
    "        \"Content-type\": \"application/json\"\n",
    "    }\n",
    ")\n",
    "print(json.dumps(r.json(), indent=4, sort_keys=True))\n",
    "\n",
    "pdf_id = r.json()['pdf_id']"
   ]
  },
  {
   "cell_type": "code",
   "execution_count": 55,
   "metadata": {},
   "outputs": [
    {
     "data": {
      "text/plain": [
       "{'status': 'completed',\n",
       " 'version': 'RSK-P117p1i1',\n",
       " 'input_file': 'http://cs229.stanford.edu/notes2020spring/cs229-notes1.pdf',\n",
       " 'num_pages': 28,\n",
       " 'num_pages_pdf': 28,\n",
       " 'num_pages_completed': 28,\n",
       " 'percent_done': 100}"
      ]
     },
     "execution_count": 55,
     "metadata": {},
     "output_type": "execute_result"
    }
   ],
   "source": [
    "url = \"https://api.mathpix.com/v3/pdf/\" + '2024_06_14_8866352bee06e8f26683g'\n",
    "response = requests.get(url, headers={\n",
    "        \"app_id\": f\"{APP_ID}\",\n",
    "        \"app_key\": f\"{APP_KEY}\",\n",
    "        \"Content-type\": \"application/json\"\n",
    "    })\n",
    "response.json()"
   ]
  },
  {
   "cell_type": "code",
   "execution_count": 58,
   "metadata": {},
   "outputs": [
    {
     "data": {
      "text/plain": [
       "True"
      ]
     },
     "execution_count": 58,
     "metadata": {},
     "output_type": "execute_result"
    }
   ],
   "source": [
    "response.json()['status'] == 'completed'"
   ]
  },
  {
   "cell_type": "code",
   "execution_count": 6,
   "metadata": {},
   "outputs": [],
   "source": [
    "import requests\n",
    "PDF_ID = \"2024_06_14_cf7fd9eb6e43b7d2921fg\"\n",
    "pdf_id = f\"{PDF_ID}\"\n",
    "headers = {\n",
    "  \"app_key\": f\"{APP_KEY}\",\n",
    "  \"app_id\": f\"{APP_ID}\"\n",
    "}\n",
    "\n",
    "# get mmd response\n",
    "url = \"https://api.mathpix.com/v3/pdf/\" + pdf_id + \".mmd\"\n",
    "response = requests.get(url, headers=headers)\n",
    "with open(pdf_id + \".mmd\", \"w\") as f:\n",
    "    f.write(response.text)\n",
    "\n",
    "# get docx response\n",
    "url = \"https://api.mathpix.com/v3/pdf/\" + pdf_id + \".docx\"\n",
    "response = requests.get(url, headers=headers)\n",
    "with open(pdf_id + \".docx\", \"wb\") as f:\n",
    "    f.write(response.content)\n",
    "\n",
    "# get LaTeX zip file\n",
    "url = \"https://api.mathpix.com/v3/pdf/\" + pdf_id + \".tex\"\n",
    "response = requests.get(url, headers=headers)\n",
    "with open(pdf_id + \".tex.zip\", \"wb\") as f:\n",
    "    f.write(response.content)\n",
    "\n",
    "# get HTML file\n",
    "url = \"https://api.mathpix.com/v3/pdf/\" + pdf_id + \".html\"\n",
    "response = requests.get(url, headers=headers)\n",
    "with open(pdf_id + \".html\", \"wb\") as f:\n",
    "    f.write(response.content)\n",
    "\n",
    "# get lines data\n",
    "url = \"https://api.mathpix.com/v3/pdf/\" + pdf_id + \".lines.json\"\n",
    "response = requests.get(url, headers=headers)\n",
    "with open(pdf_id + \".lines.json\", \"wb\") as f:\n",
    "    f.write(response.content)\n",
    "\n",
    "# get lines mmd json\n",
    "url = \"https://api.mathpix.com/v3/pdf/\" + pdf_id + \".lines.mmd.json\"\n",
    "response = requests.get(url, headers=headers)\n",
    "with open(pdf_id + \".lines.mmd.json\", \"wb\") as f:\n",
    "    f.write(response.content)"
   ]
  },
  {
   "cell_type": "code",
   "execution_count": 44,
   "metadata": {},
   "outputs": [
    {
     "data": {
      "text/plain": [
       "b'<!DOCTYPE HTML PUBLIC \"-//W3C//DTD HTML 4.01 Transitional//EN\" \"http://www.w3.org/TR/html4/loose.dtd\">\\n<HTML><HEAD><META HTTP-EQUIV=\"Content-Type\" CONTENT=\"text/html; charset=iso-8859-1\">\\n<TITLE>ERROR: The request could not be satisfied</TITLE>\\n</HEAD><BODY>\\n<H1>403 ERROR</H1>\\n<H2>The request could not be satisfied.</H2>\\n<HR noshade size=\"1px\">\\nBad request.\\nWe can\\'t connect to the server for this app or website at this time. There might be too much traffic or a configuration error. Try again later, or contact the app or website owner.\\n<BR clear=\"all\">\\nIf you provide content to customers through CloudFront, you can find steps to troubleshoot and help prevent this error by reviewing the CloudFront documentation.\\n<BR clear=\"all\">\\n<HR noshade size=\"1px\">\\n<PRE>\\nGenerated by cloudfront (CloudFront)\\nRequest ID: zvbGl6QvFSzAY9AyeYKuYJWSLW-ppdeAe3wkoWbnLvwRMtuhVILT5Q==\\n</PRE>\\n<ADDRESS>\\n</ADDRESS>\\n</BODY></HTML>'"
      ]
     },
     "execution_count": 44,
     "metadata": {},
     "output_type": "execute_result"
    }
   ],
   "source": [
    "requests.get(\n",
    "    url = \"https://api.mathpix.com/v3/pdf/2024_06_14_0c74c83e363bd7de641eg\",\n",
    "    json={\n",
    "        \"url\": \"http://cs229.stanford.edu/notes2020spring/cs229-notes1.pdf\",\n",
    "        \"conversion_formats\": {\n",
    "            \"docx\": \"true\",\n",
    "            \"tex.zip\": \"true\"\n",
    "        },\n",
    "    },\n",
    "    headers={\n",
    "        \"app_id\": f\"{APP_ID}\",\n",
    "        \"app_key\": f\"{APP_KEY}\",\n",
    "        \"Content-type\": \"application/json\"\n",
    "    }\n",
    ").content"
   ]
  },
  {
   "cell_type": "markdown",
   "metadata": {},
   "source": [
    "# try via local file"
   ]
  },
  {
   "cell_type": "code",
   "execution_count": 12,
   "metadata": {},
   "outputs": [
    {
     "name": "stdout",
     "output_type": "stream",
     "text": [
      "b'{\"pdf_id\":\"2024_06_14_b4375fa23209b2814e14g\"}'\n"
     ]
    }
   ],
   "source": [
    "\n",
    "\n",
    "import requests\n",
    "import json\n",
    "\n",
    "options = {\n",
    "    \"conversion_formats\": {\"docx\": True, \"tex.zip\": True},\n",
    "    \"math_inline_delimiters\": [\"$\", \"$\"],\n",
    "    \"rm_spaces\": True\n",
    "}\n",
    "r = requests.post(\"https://api.mathpix.com/v3/pdf\",\n",
    "    headers={\n",
    "        \"app_id\": f\"{APP_ID}\",\n",
    "        \"app_key\": f\"{APP_KEY}\"\n",
    "    },\n",
    "    data={\n",
    "        \"options_json\": json.dumps(options)\n",
    "    },\n",
    "    files={\n",
    "        \"file\": open(\"/Users/chenzhiwei/Downloads/Pubmedsoso/document/neurosurgery/50214.pdf\",\"rb\")\n",
    "    }\n",
    ")\n",
    "print(r.text.encode(\"utf8\"))"
   ]
  },
  {
   "cell_type": "code",
   "execution_count": 14,
   "metadata": {},
   "outputs": [],
   "source": [
    "import requests\n",
    "PDF_ID = \"2024_06_14_b4375fa23209b2814e14g\"\n",
    "pdf_id = f\"{PDF_ID}\"\n",
    "headers = {\n",
    "  \"app_key\": f\"{APP_KEY}\",\n",
    "  \"app_id\": f\"{APP_ID}\"\n",
    "}\n",
    "\n",
    "# get mmd response\n",
    "url = \"https://api.mathpix.com/v3/pdf/\" + pdf_id + \".mmd\"\n",
    "response = requests.get(url, headers=headers)\n",
    "with open(pdf_id + \".mmd\", \"w\") as f:\n",
    "    f.write(response.text)\n",
    "\n",
    "# get docx response\n",
    "url = \"https://api.mathpix.com/v3/pdf/\" + pdf_id + \".docx\"\n",
    "response = requests.get(url, headers=headers)\n",
    "with open(pdf_id + \".docx\", \"wb\") as f:\n",
    "    f.write(response.content)\n",
    "\n",
    "# get LaTeX zip file\n",
    "url = \"https://api.mathpix.com/v3/pdf/\" + pdf_id + \".tex\"\n",
    "response = requests.get(url, headers=headers)\n",
    "with open(pdf_id + \".tex.zip\", \"wb\") as f:\n",
    "    f.write(response.content)\n",
    "\n",
    "# get HTML file\n",
    "url = \"https://api.mathpix.com/v3/pdf/\" + pdf_id + \".html\"\n",
    "response = requests.get(url, headers=headers)\n",
    "with open(pdf_id + \".html\", \"wb\") as f:\n",
    "    f.write(response.content)\n",
    "\n",
    "# get lines data\n",
    "url = \"https://api.mathpix.com/v3/pdf/\" + pdf_id + \".lines.json\"\n",
    "response = requests.get(url, headers=headers)\n",
    "with open(pdf_id + \".lines.json\", \"wb\") as f:\n",
    "    f.write(response.content)\n",
    "\n",
    "# get lines mmd json\n",
    "url = \"https://api.mathpix.com/v3/pdf/\" + pdf_id + \".lines.mmd.json\"\n",
    "response = requests.get(url, headers=headers)\n",
    "with open(pdf_id + \".lines.mmd.json\", \"wb\") as f:\n",
    "    f.write(response.content)"
   ]
  },
  {
   "cell_type": "code",
   "execution_count": 15,
   "metadata": {},
   "outputs": [
    {
     "name": "stdout",
     "output_type": "stream",
     "text": [
      "b'{\"pdf_id\":\"2024_06_14_e30cc76b75d653a60759g\"}'\n"
     ]
    }
   ],
   "source": [
    "\n",
    "\n",
    "import requests\n",
    "import json\n",
    "\n",
    "options = {\n",
    "    \"conversion_formats\": {\"docx\": True, \"tex.zip\": True},\n",
    "    \"math_inline_delimiters\": [\"$\", \"$\"],\n",
    "    \"rm_spaces\": True\n",
    "}\n",
    "r = requests.post(\"https://api.mathpix.com/v3/pdf\",\n",
    "    headers={\n",
    "        \"app_id\": f\"{APP_ID}\",\n",
    "        \"app_key\": f\"{APP_KEY}\"\n",
    "    },\n",
    "    data={\n",
    "        \"options_json\": json.dumps(options)\n",
    "    },\n",
    "    files={\n",
    "        \"file\": open(\"/Users/chenzhiwei/Downloads/略读论文/NeurIPS Datasets and Benchmarks-2021-due-end-to-end-document-understanding-benchmark-Paper-round2.pdf\",\"rb\")\n",
    "    }\n",
    ")\n",
    "print(r.text.encode(\"utf8\"))"
   ]
  },
  {
   "cell_type": "code",
   "execution_count": 25,
   "metadata": {},
   "outputs": [
    {
     "data": {
      "text/plain": [
       "<Response [401]>"
      ]
     },
     "execution_count": 25,
     "metadata": {},
     "output_type": "execute_result"
    }
   ],
   "source": [
    "requests.get('https://api.mathpix.com/v3/converter/2024_06_14_e30cc76b75d653a60759g')"
   ]
  },
  {
   "cell_type": "code",
   "execution_count": 26,
   "metadata": {},
   "outputs": [],
   "source": [
    "import requests\n",
    "PDF_ID = \"2024_06_14_e30cc76b75d653a60759g\"\n",
    "pdf_id = f\"{PDF_ID}\"\n",
    "headers = {\n",
    "  \"app_key\": f\"{APP_KEY}\",\n",
    "  \"app_id\": f\"{APP_ID}\"\n",
    "}\n",
    "\n",
    "# get mmd response\n",
    "url = \"https://api.mathpix.com/v3/pdf/\" + pdf_id + \".mmd\"\n",
    "response = requests.get(url, headers=headers)\n",
    "with open(pdf_id + \".mmd\", \"w\") as f:\n",
    "    f.write(response.text)\n",
    "\n",
    "# get docx response\n",
    "url = \"https://api.mathpix.com/v3/pdf/\" + pdf_id + \".docx\"\n",
    "response = requests.get(url, headers=headers)\n",
    "with open(pdf_id + \".docx\", \"wb\") as f:\n",
    "    f.write(response.content)\n",
    "\n",
    "# get LaTeX zip file\n",
    "url = \"https://api.mathpix.com/v3/pdf/\" + pdf_id + \".tex\"\n",
    "response = requests.get(url, headers=headers)\n",
    "with open(pdf_id + \".tex.zip\", \"wb\") as f:\n",
    "    f.write(response.content)\n",
    "\n",
    "# get HTML file\n",
    "url = \"https://api.mathpix.com/v3/pdf/\" + pdf_id + \".html\"\n",
    "response = requests.get(url, headers=headers)\n",
    "with open(pdf_id + \".html\", \"wb\") as f:\n",
    "    f.write(response.content)\n",
    "\n",
    "# get lines data\n",
    "url = \"https://api.mathpix.com/v3/pdf/\" + pdf_id + \".lines.json\"\n",
    "response = requests.get(url, headers=headers)\n",
    "with open(pdf_id + \".lines.json\", \"wb\") as f:\n",
    "    f.write(response.content)\n",
    "\n",
    "# get lines mmd json\n",
    "url = \"https://api.mathpix.com/v3/pdf/\" + pdf_id + \".lines.mmd.json\"\n",
    "response = requests.get(url, headers=headers)\n",
    "with open(pdf_id + \".lines.mmd.json\", \"wb\") as f:\n",
    "    f.write(response.content)"
   ]
  },
  {
   "cell_type": "markdown",
   "metadata": {},
   "source": [
    "# function abstraction"
   ]
  },
  {
   "cell_type": "code",
   "execution_count": 8,
   "metadata": {},
   "outputs": [],
   "source": [
    "import os\n",
    "import requests\n",
    "import json\n",
    "def mpx_parse_local_pdf(filename: str = \"None\", output_folder: str = \"None\"):\n",
    "    '''use MathPix API to parse pdf files.\n",
    "    check doc page: https://docs.mathpix.com/?python#introduction\n",
    "    '''\n",
    "    if filename == \"None\":\n",
    "        return\n",
    "    if output_folder == \"None\":\n",
    "        output_folder = os.path.basename(filename)[:-4] \n",
    "    if not os.path.exists(output_folder):\n",
    "        os.makedirs(output_folder, exist_ok = True)\n",
    "    \n",
    "    '''initialize'''\n",
    "    APP_ID = os.environ.get('APP_ID')\n",
    "    APP_KEY = os.environ.get('APP_KEY')\n",
    "    headers = {\n",
    "            \"app_id\": f\"{APP_ID}\",\n",
    "            \"app_key\": f\"{APP_KEY}\"\n",
    "    }\n",
    "    options = {\n",
    "        \"conversion_formats\": {\"docx\": True, \"tex.zip\": True},\n",
    "        \"math_inline_delimiters\": [\"$\", \"$\"],\n",
    "        \"rm_spaces\": True\n",
    "    }\n",
    "    r = requests.post(\"https://api.mathpix.com/v3/pdf\",\n",
    "            headers = headers,\n",
    "            data = { \"options_json\": json.dumps(options) },\n",
    "            files = { \"file\": open(filename,\"rb\") }\n",
    "        )\n",
    "    pdf_id = r.json()['pdf_id']\n",
    "    status_url =  \"https://api.mathpix.com/v3/pdf/\" + pdf_id\n",
    "    status_response = requests.get(status_url, headers={\n",
    "            \"app_id\": f\"{APP_ID}\",\n",
    "            \"app_key\": f\"{APP_KEY}\",\n",
    "            \"Content-type\": \"application/json\"\n",
    "    })\n",
    "    while status_response.json()['status'] != 'completed':\n",
    "        # print(f'''{status_response.json()['percent_done']}''')\n",
    "        status_response = requests.get(status_url, headers={\n",
    "            \"app_id\": f\"{APP_ID}\",\n",
    "            \"app_key\": f\"{APP_KEY}\",\n",
    "            \"Content-type\": \"application/json\"\n",
    "        })\n",
    "        pass\n",
    "    # print(f\"{pdf_id}, {filename} processing completed\")\n",
    "\n",
    "    # save file\n",
    "\n",
    "    # get mmd response\n",
    "    url = \"https://api.mathpix.com/v3/pdf/\" + pdf_id + \".mmd\"\n",
    "    response = requests.get(url, headers=headers)\n",
    "    with open(output_folder + '/' + pdf_id + \".mmd\", \"w\") as f:\n",
    "        f.write(response.text)\n",
    "\n",
    "    # get docx response\n",
    "    url = \"https://api.mathpix.com/v3/pdf/\" + pdf_id + \".docx\"\n",
    "    response = requests.get(url, headers=headers)\n",
    "    with open(output_folder + '/' + pdf_id + \".docx\", \"wb\") as f:\n",
    "        f.write(response.content)\n",
    "\n",
    "    # get LaTeX zip file\n",
    "    url = \"https://api.mathpix.com/v3/pdf/\" + pdf_id + \".tex\"\n",
    "    response = requests.get(url, headers=headers)\n",
    "    with open(output_folder + '/' + pdf_id + \".tex.zip\", \"wb\") as f:\n",
    "        f.write(response.content)\n",
    "\n",
    "    # get HTML file\n",
    "    url = \"https://api.mathpix.com/v3/pdf/\" + pdf_id + \".html\"\n",
    "    response = requests.get(url, headers=headers)\n",
    "    with open(output_folder + '/' + pdf_id + \".html\", \"wb\") as f:\n",
    "        f.write(response.content)\n",
    "\n",
    "    # get lines data\n",
    "    url = \"https://api.mathpix.com/v3/pdf/\" + pdf_id + \".lines.json\"\n",
    "    response = requests.get(url, headers=headers)\n",
    "    with open(output_folder + '/' + pdf_id + \".lines.json\", \"wb\") as f:\n",
    "        f.write(response.content)\n",
    "\n",
    "    # get lines mmd json\n",
    "    url = \"https://api.mathpix.com/v3/pdf/\" + pdf_id + \".lines.mmd.json\"\n",
    "    response = requests.get(url, headers=headers)\n",
    "    with open(output_folder + '/' + pdf_id + \".lines.mmd.json\", \"wb\") as f:\n",
    "        f.write(response.content)"
   ]
  },
  {
   "cell_type": "code",
   "execution_count": 9,
   "metadata": {},
   "outputs": [],
   "source": [
    "mpx_parse_local_pdf('/Volumes/Lexar1TB/PaperCrawl/PubMed/downloaded_pdfs/anaesthesiology/141964.pdf')"
   ]
  },
  {
   "cell_type": "markdown",
   "metadata": {},
   "source": [
    "# test grobid"
   ]
  },
  {
   "cell_type": "code",
   "execution_count": null,
   "metadata": {},
   "outputs": [],
   "source": [
    "def grbd_parse_local_pdf():\n",
    "    "
   ]
  }
 ],
 "metadata": {
  "kernelspec": {
   "display_name": ".venv",
   "language": "python",
   "name": "python3"
  },
  "language_info": {
   "codemirror_mode": {
    "name": "ipython",
    "version": 3
   },
   "file_extension": ".py",
   "mimetype": "text/x-python",
   "name": "python",
   "nbconvert_exporter": "python",
   "pygments_lexer": "ipython3",
   "version": "3.9.undefined"
  }
 },
 "nbformat": 4,
 "nbformat_minor": 2
}
